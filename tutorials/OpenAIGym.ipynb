{
 "cells": [
  {
   "cell_type": "markdown",
   "metadata": {},
   "source": [
    "# Have More Fun in OpenAI Gym\n",
    "\n",
    "Hope this tutorial can help you have more fun in OpenAI Gym.\n",
    "\n",
    "Reading suggestion:\n",
    "- Just run the cells to have a bird view of how it works.\n",
    "- Then there is summary of main funcitons, where you can kown more details."
   ]
  },
  {
   "cell_type": "code",
   "execution_count": 1,
   "metadata": {},
   "outputs": [],
   "source": [
    "%matplotlib inline\n",
    "\n",
    "import gym\n",
    "import numpy as np\n",
    "from matplotlib import pyplot as plt"
   ]
  },
  {
   "cell_type": "markdown",
   "metadata": {},
   "source": [
    "## Prepare the game environment\n",
    "\n",
    "Here we use the classical [Atari game](https://gym.openai.com/envs/#atari) as an example."
   ]
  },
  {
   "cell_type": "code",
   "execution_count": 2,
   "metadata": {},
   "outputs": [],
   "source": [
    "env = gym.envs.make(\"MsPacman-v0\")"
   ]
  },
  {
   "cell_type": "markdown",
   "metadata": {},
   "source": [
    "**Get some basical information about the game.**\n",
    "\n",
    "- The size of action space.\n",
    "- The meanings of each action.\n",
    "- The size of observation space."
   ]
  },
  {
   "cell_type": "code",
   "execution_count": 3,
   "metadata": {},
   "outputs": [
    {
     "name": "stdout",
     "output_type": "stream",
     "text": [
      "Size of action space: 9\n",
      "['NOOP', 'UP', 'RIGHT', 'LEFT', 'DOWN', 'UPRIGHT', 'UPLEFT', 'DOWNRIGHT', 'DOWNLEFT']\n",
      "Shape of observation space: (210, 160, 3)\n"
     ]
    }
   ],
   "source": [
    "print(\"Size of action space: {}\".format(env.action_space.n))\n",
    "\n",
    "action_meanings = env.unwrapped.get_action_meanings()\n",
    "print(action_meanings)\n",
    "\n",
    "observation = env.reset()\n",
    "print(\"Shape of observation space: {}\".format(observation.shape))"
   ]
  },
  {
   "cell_type": "markdown",
   "metadata": {},
   "source": [
    "There are 18 actions total in Atari games, which are the combination of **UP**, **DOWN**, **LEFT**, **RIGHT**, **FIRE** plus **NOOP**, which means doing nothing. And there is also a parameter named 'Frameskip', which means each action is repeatedly performed for a duration of $k$ frames, where $k$ is uniformly sampled from the range idicated by 'Frameskip'. \n",
    "\n",
    "The related source code about Atari Envs in OpenAI Gym can be found [here](https://github.com/openai/gym/blob/master/gym/envs/atari/atari_env.py)."
   ]
  },
  {
   "cell_type": "markdown",
   "metadata": {},
   "source": [
    "**The key for triggering the action.**"
   ]
  },
  {
   "cell_type": "code",
   "execution_count": 4,
   "metadata": {},
   "outputs": [
    {
     "name": "stdout",
     "output_type": "stream",
     "text": [
      "NOOP : \n",
      "UP : 'w', \n",
      "RIGHT : 'd', \n",
      "LEFT : 'a', \n",
      "DOWN : 's', \n",
      "UPRIGHT : 'd', 'w', \n",
      "UPLEFT : 'a', 'w', \n",
      "DOWNRIGHT : 'd', 's', \n",
      "DOWNLEFT : 'a', 's', \n"
     ]
    }
   ],
   "source": [
    "keys2actions = env.unwrapped.get_keys_to_action()\n",
    "for keys, action_index in keys2actions.items():\n",
    "    action_meaning = action_meanings[action_index]\n",
    "    message = str(action_meaning)+' : '\n",
    "    for key in keys:\n",
    "        message += '\\'' + chr(key) + '\\', '\n",
    "    print(message)"
   ]
  },
  {
   "cell_type": "markdown",
   "metadata": {},
   "source": [
    "**Show the images of the game**"
   ]
  },
  {
   "cell_type": "code",
   "execution_count": 5,
   "metadata": {},
   "outputs": [
    {
     "data": {
      "image/png": "[encoded data removed]",
      "text/plain": [
       "<matplotlib.figure.Figure at 0x10bd27668>"
      ]
     },
     "metadata": {},
     "output_type": "display_data"
    },
    {
     "data": {
      "image/png": "[encoded data removed]",
      "text/plain": [
       "<matplotlib.figure.Figure at 0x10bd27cf8>"
      ]
     },
     "metadata": {},
     "output_type": "display_data"
    }
   ],
   "source": [
    "env.reset()\n",
    "plt.figure()\n",
    "plt.imshow(env.render(mode='rgb_array'))\n",
    "\n",
    "[env.step(4) for x in range(100)]\n",
    "plt.figure()\n",
    "plt.imshow(env.render(mode='rgb_array'))\n",
    "\n",
    "env.render(close=True)"
   ]
  },
  {
   "cell_type": "markdown",
   "metadata": {},
   "source": [
    "**We may also want to crop the image to delete useless regions in the image, like the score information.**"
   ]
  },
  {
   "cell_type": "code",
   "execution_count": 6,
   "metadata": {},
   "outputs": [
    {
     "data": {
      "text/plain": [
       "<matplotlib.image.AxesImage at 0x10e8868d0>"
      ]
     },
     "execution_count": 6,
     "metadata": {},
     "output_type": "execute_result"
    },
    {
     "data": {
      "image/png": "[encoded data removed]",
      "text/plain": [
       "<matplotlib.figure.Figure at 0x109891080>"
      ]
     },
     "metadata": {},
     "output_type": "display_data"
    }
   ],
   "source": [
    "# Check out what a cropped image looks like\n",
    "plt.imshow(observation[0:-40,:,:])"
   ]
  },
  {
   "cell_type": "markdown",
   "metadata": {},
   "source": [
    "## Summary\n",
    "\n",
    "The following content you can also read from the [official documention](https://gym.openai.com/docs/#observations) of Gym.\n",
    "\n",
    "### For main functions\n",
    "\n",
    "To choose the envrionment you want to use:\n",
    "\n",
    "    env = gym.envs.make()\n",
    "    \n",
    "Some information about state and action space:\n",
    "    \n",
    "    action_space: The Space object corresponding to valid actions\n",
    "    observation_space: The Space object corresponding to valid observations\n",
    "\n",
    "The 3 core main API methods to use the env:\n",
    "        \n",
    "    env.reset()      # Get the initial state\n",
    "    env.step(action) # The the action in action_space, then get the observation information\n",
    "    env.render()     # Refresh the scene, not required when training to save time\n",
    "    \n",
    "### For observed informations returned by environment\n",
    "\n",
    "The environment’s **step** function returns exactly what we need. In fact, **step** returns four values. These are:\n",
    "\n",
    "- observation (object): an environment-specific object representing your observation of the environment. For example, pixel data from a camera, joint angles and joint velocities of a robot, or the board state in a board game.\n",
    "- reward (float): amount of reward achieved by the previous action. The scale varies between environments, but the goal is always to increase your total reward.\n",
    "- done (boolean): whether it’s time to **reset** the environment again. Most (but not all) tasks are divided up into well-defined episodes, and **done** being **True** indicates the episode has terminated. (For example, perhaps the pole tipped too far, or you lost your last life.)\n",
    "- info (dict): diagnostic information useful for debugging. It can sometimes be useful for learning (for example, it might contain the raw probabilities behind the environment’s last state change). However, official evaluations of your agent are not allowed to use this for learning.\n",
    "\n",
    "This is just an implementation of the classic “agent-environment loop”. Each timestep, the agent chooses an action, and the environment returns an observation and a reward.\n",
    "\n",
    "![](https://gym.openai.com/assets/docs/aeloop-138c89d44114492fd02822303e6b4b07213010bb14ca5856d2d49d6b62d88e53.svg)"
   ]
  },
  {
   "cell_type": "markdown",
   "metadata": {},
   "source": [
    "## Recode the video of playing the game.\n",
    "\n",
    "If you want to know what is happenning in the game, you can use [Monitor](https://github.com/openai/gym/blob/master/gym/wrappers/monitor.py) to record the video."
   ]
  },
  {
   "cell_type": "code",
   "execution_count": 7,
   "metadata": {},
   "outputs": [
    {
     "name": "stdout",
     "output_type": "stream",
     "text": [
      "Episode 0 finished after 269 timesteps\n",
      "Episode 1 finished after 236 timesteps\n",
      "Episode 2 finished after 209 timesteps\n",
      "Episode 3 finished after 338 timesteps\n",
      "Episode 4 finished after 308 timesteps\n",
      "Episode 5 finished after 169 timesteps\n",
      "Episode 6 finished after 170 timesteps\n",
      "Episode 7 finished after 240 timesteps\n",
      "Episode 8 finished after 378 timesteps\n",
      "Episode 9 finished after 175 timesteps\n"
     ]
    }
   ],
   "source": [
    "import os\n",
    "from gym.wrappers import Monitor\n",
    "\n",
    "experiment_dir = \"./experiment/\"\n",
    "if not os.path.exists(experiment_dir):\n",
    "    os.makedirs(experiment_dir)\n",
    "\n",
    "monitor_path = os.path.join(experiment_dir, \"monitor/\")\n",
    "if not os.path.exists(monitor_path):\n",
    "    os.makedirs(monitor_path)\n",
    "\n",
    "env = gym.make('Breakout-v0')\n",
    "# The frequency of recording the game\n",
    "record_video_every = 5\n",
    "env = Monitor(env, directory=monitor_path, video_callable=lambda count: count % record_video_every == 0, resume=True)\n",
    "for i_episode in range(10):\n",
    "    env.reset()\n",
    "    t = 0\n",
    "    while True:\n",
    "        t = t + 1\n",
    "        action = env.action_space.sample()\n",
    "        observation, reward, done, info = env.step(action)\n",
    "        if done:\n",
    "            print(\"Episode {} finished after {} timesteps\".format(i_episode, t+1))\n",
    "            break"
   ]
  },
  {
   "cell_type": "markdown",
   "metadata": {},
   "source": [
    "You can find the recorded video under the **monitor_path**."
   ]
  },
  {
   "cell_type": "markdown",
   "metadata": {},
   "source": [
    "## Add your new environment\n",
    "\n",
    "Finally, you may want to use your own game environment and then make a contribution to this community. In this [page](https://github.com/openai/gym/tree/master/gym/envs), there are steps required for add your own environment into the architecture of OpenAI Gym. And from here, you can have a close look at what environemnts are offered by Gym.\n",
    "\n",
    "When implementing an environment, override the following methods in your subclass:\n",
    "    \n",
    "    _step\n",
    "    _reset\n",
    "    _render"
   ]
  }
 ],
 "metadata": {
  "kernelspec": {
   "display_name": "Pythonrl 3",
   "language": "python",
   "name": "rlpython3"
  },
  "language_info": {
   "codemirror_mode": {
    "name": "ipython",
    "version": 3
   },
   "file_extension": ".py",
   "mimetype": "text/x-python",
   "name": "python",
   "nbconvert_exporter": "python",
   "pygments_lexer": "ipython3",
   "version": "3.6.4"
  }
 },
 "nbformat": 4,
 "nbformat_minor": 2
}
